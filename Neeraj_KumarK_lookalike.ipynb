{
 "cells": [
  {
   "cell_type": "markdown",
   "metadata": {},
   "source": [
    "A Lookalike Model was developed to identify customers similar to a given customer based on their transactional behavior and profile data. \n",
    "\n",
    "The model uses a combination of customer preferences, spending habits, and purchase history to compute similarity.\n",
    "\n",
    "Approach\n",
    "\n",
    "Data Preparation:\n",
    "Merged the Customers, Products, and Transactions datasets.\n",
    "\n",
    "Aggregated features such as total revenue, average quantity, and preferred product categories for each customer.\n",
    "\n",
    "Encoded categorical variables (e.g., preferred categories) using one-hot encoding.\n",
    "\n",
    "Model Development:\n",
    "Standardized the data using StandardScaler.\n",
    "Computed pairwise similarity using cosine similarity.\n",
    "Identified the top 3 most similar customers for each customer.\n",
    "\n",
    "Output:\n",
    "Generated similarity scores for the first 20 customers (C0001 to C0020).\n",
    "\n",
    "Saved recommendations in a CSV format with columns: \n",
    "\n",
    "CustomerID, SimilarCustomer1, Score1, SimilarCustomer2, Score2, SimilarCustomer3, Score3.\n",
    "\n",
    "Sample Results\n",
    "\n",
    "Customer C0001:\n",
    "\n",
    "SimilarCustomer1: C0181 (Score: 0.996)\n",
    "\n",
    "SimilarCustomer2: C0055 (Score: 0.992)\n",
    "\n",
    "SimilarCustomer3: C0048 (Score: 0.992)\n",
    "\n",
    "Customer C0002:\n",
    "\n",
    "SimilarCustomer1: C0029 (Score: 0.999)\n",
    "\n",
    "SimilarCustomer2: C0062 (Score: 0.991)\n",
    "\n",
    "SimilarCustomer3: C0030 (Score: 0.984)"
   ]
  },
  {
   "cell_type": "code",
   "execution_count": 17,
   "metadata": {},
   "outputs": [],
   "source": [
    "import pandas as pd\n",
    "from sklearn.metrics.pairwise import cosine_similarity\n",
    "from sklearn.preprocessing import StandardScaler\n",
    "\n",
    "customers_df = pd.read_csv('dataset/Customers.csv')\n",
    "products_df = pd.read_csv('dataset/Products.csv')\n",
    "transactions_df = pd.read_csv('dataset/Transactions.csv')\n",
    "\n",
    "transactions_df['TransactionDate'] = pd.to_datetime(transactions_df['TransactionDate'])"
   ]
  },
  {
   "cell_type": "code",
   "execution_count": 18,
   "metadata": {},
   "outputs": [],
   "source": [
    "merged_df = transactions_df.merge(customers_df, on='CustomerID').merge(products_df, on='ProductID')\n",
    "\n",
    "merged_df['Revenue'] = merged_df['Quantity'] * merged_df['Price_y']\n",
    "\n",
    "# Aggregate customer features\n",
    "customer_features = merged_df.groupby('CustomerID').agg(\n",
    "    total_revenue=('Revenue', 'sum'),\n",
    "    avg_quantity=('Quantity', 'mean'),\n",
    "    preferred_category=('Category', lambda x: x.mode()[0])  # Most frequent category\n",
    ").reset_index()"
   ]
  },
  {
   "cell_type": "code",
   "execution_count": 19,
   "metadata": {},
   "outputs": [],
   "source": [
    "customer_features = pd.get_dummies(customer_features, columns=['preferred_category'])\n",
    "\n",
    "scaler = StandardScaler()\n",
    "scaled_features = scaler.fit_transform(customer_features.drop(columns=['CustomerID']))\n",
    "\n",
    "similarity_matrix = cosine_similarity(scaled_features)\n",
    "\n",
    "similarity_df = pd.DataFrame(similarity_matrix, index=customer_features['CustomerID'], columns=customer_features['CustomerID'])\n",
    "\n",
    "# Generate lookalike recommendations for the first 20 customers\n",
    "lookalike_data = {}\n",
    "for cust_id in customer_features['CustomerID'][:20]:\n",
    "    similar_customers = similarity_df[cust_id].sort_values(ascending=False)[1:4]  # Top 3 lookalikes\n",
    "    lookalike_data[cust_id] = similar_customers.index.tolist(), similar_customers.values.tolist()"
   ]
  },
  {
   "cell_type": "code",
   "execution_count": 20,
   "metadata": {},
   "outputs": [
    {
     "name": "stdout",
     "output_type": "stream",
     "text": [
      "Sample Lookalike Recommendations:\n",
      "Customer C0001:\n",
      "  SimilarCustomer1: C0181 (Score: 0.996)\n",
      "  SimilarCustomer2: C0055 (Score: 0.992)\n",
      "  SimilarCustomer3: C0048 (Score: 0.992)\n",
      "Customer C0002:\n",
      "  SimilarCustomer1: C0029 (Score: 1.000)\n",
      "  SimilarCustomer2: C0062 (Score: 0.991)\n",
      "  SimilarCustomer3: C0030 (Score: 0.984)\n",
      "Customer C0003:\n",
      "  SimilarCustomer1: C0089 (Score: 0.999)\n",
      "  SimilarCustomer2: C0136 (Score: 0.954)\n",
      "  SimilarCustomer3: C0110 (Score: 0.952)\n",
      "Customer C0004:\n",
      "  SimilarCustomer1: C0171 (Score: 0.993)\n",
      "  SimilarCustomer2: C0168 (Score: 0.991)\n",
      "  SimilarCustomer3: C0153 (Score: 0.989)\n",
      "Customer C0005:\n",
      "  SimilarCustomer1: C0186 (Score: 0.998)\n",
      "  SimilarCustomer2: C0199 (Score: 0.998)\n",
      "  SimilarCustomer3: C0140 (Score: 0.991)\n"
     ]
    }
   ],
   "source": [
    "import csv\n",
    "with open('Neeraj_Kumark_Lookalike.csv', mode='w', newline='') as file:\n",
    "    writer = csv.writer(file)\n",
    "    writer.writerow(['CustomerID', 'SimilarCustomer1', 'Score1', 'SimilarCustomer2', 'Score2', 'SimilarCustomer3', 'Score3'])\n",
    "    for cust_id, (similar_ids, scores) in lookalike_data.items():\n",
    "        writer.writerow([cust_id, *sum(zip(similar_ids, scores), ())])\n",
    "\n",
    "print(\"Sample Lookalike Recommendations:\")\n",
    "for cust_id, (similar_ids, scores) in list(lookalike_data.items())[:5]:\n",
    "    print(f\"Customer {cust_id}:\")\n",
    "    for idx, (sim_id, score) in enumerate(zip(similar_ids, scores), start=1):\n",
    "        print(f\"  SimilarCustomer{idx}: {sim_id} (Score: {score:.3f})\")"
   ]
  },
  {
   "cell_type": "markdown",
   "metadata": {},
   "source": []
  }
 ],
 "metadata": {
  "kernelspec": {
   "display_name": "base",
   "language": "python",
   "name": "python3"
  },
  "language_info": {
   "codemirror_mode": {
    "name": "ipython",
    "version": 3
   },
   "file_extension": ".py",
   "mimetype": "text/x-python",
   "name": "python",
   "nbconvert_exporter": "python",
   "pygments_lexer": "ipython3",
   "version": "3.12.8"
  }
 },
 "nbformat": 4,
 "nbformat_minor": 2
}
